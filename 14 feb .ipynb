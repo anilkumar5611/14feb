{
 "cells": [
  {
   "cell_type": "markdown",
   "id": "049f39fd",
   "metadata": {},
   "source": [
    "## Q1"
   ]
  },
  {
   "cell_type": "code",
   "execution_count": 1,
   "id": "dcc5e167",
   "metadata": {},
   "outputs": [],
   "source": [
    "# Multithreading in Python, facilitated by the threading module, allows concurrent execution of tasks, \n",
    "# enhancing performance in I/O-bound scenarios. Python's Global Interpreter Lock (GIL) limits the \n",
    "# effectiveness of multithreading for CPU-bound tasks due to sequential bytecode execution.\n",
    "# Careful synchronization using tools like locks is crucial to manage shared resources and \n",
    "# prevent race conditions in multithreaded programs."
   ]
  },
  {
   "cell_type": "markdown",
   "id": "6ff264f0",
   "metadata": {},
   "source": [
    "## Q2"
   ]
  },
  {
   "cell_type": "code",
   "execution_count": 3,
   "id": "af7d7c7d",
   "metadata": {},
   "outputs": [],
   "source": [
    "#The threading module in Python is used for creating, controlling, and managing threads in a program"
   ]
  },
  {
   "cell_type": "code",
   "execution_count": 4,
   "id": "8dc3882e",
   "metadata": {},
   "outputs": [
    {
     "name": "stdout",
     "output_type": "stream",
     "text": [
      "Hello from thread!Number of active threads: 7\n"
     ]
    },
    {
     "name": "stderr",
     "output_type": "stream",
     "text": [
      "C:\\Users\\Anil Kumar\\AppData\\Local\\Temp\\ipykernel_41620\\364272336.py:11: DeprecationWarning: activeCount() is deprecated, use active_count() instead\n",
      "  num_active_threads = threading.activeCount()\n"
     ]
    },
    {
     "name": "stdout",
     "output_type": "stream",
     "text": [
      "\n"
     ]
    }
   ],
   "source": [
    "import threading\n",
    "\n",
    "def my_function():\n",
    "    print(\"Hello from thread!\")\n",
    "\n",
    "# Create and start a thread\n",
    "my_thread = threading.Thread(target=my_function)\n",
    "my_thread.start()\n",
    "\n",
    "# Get the number of active threads\n",
    "num_active_threads = threading.activeCount()\n",
    "print(f\"Number of active threads: {num_active_threads}\")\n"
   ]
  },
  {
   "cell_type": "code",
   "execution_count": 5,
   "id": "89c5dd20",
   "metadata": {},
   "outputs": [
    {
     "name": "stderr",
     "output_type": "stream",
     "text": [
      "C:\\Users\\Anil Kumar\\AppData\\Local\\Temp\\ipykernel_41620\\2070110338.py:4: DeprecationWarning: currentThread() is deprecated, use current_thread() instead\n",
      "  current_thread = threading.currentThread()\n"
     ]
    },
    {
     "name": "stdout",
     "output_type": "stream",
     "text": [
      "Current Thread: Thread-A\n"
     ]
    }
   ],
   "source": [
    "import threading\n",
    "\n",
    "def print_current_thread():\n",
    "    current_thread = threading.currentThread()\n",
    "    print(f\"Current Thread: {current_thread.name}\")\n",
    "\n",
    "# Create and start a thread\n",
    "my_thread = threading.Thread(target=print_current_thread, name=\"Thread-A\")\n",
    "my_thread.start()\n"
   ]
  },
  {
   "cell_type": "code",
   "execution_count": 6,
   "id": "3e86659a",
   "metadata": {},
   "outputs": [
    {
     "name": "stdout",
     "output_type": "stream",
     "text": [
      "Hello from thread!\n",
      "Hello from thread!\n",
      "Thread name: MainThread\n",
      "Thread name: IOPub\n",
      "Thread name: Heartbeat\n",
      "Thread name: Control\n",
      "Thread name: IPythonHistorySavingThread\n",
      "Thread name: Thread-4\n"
     ]
    }
   ],
   "source": [
    "import threading\n",
    "\n",
    "def my_function():\n",
    "    print(\"Hello from thread!\")\n",
    "\n",
    "# Create and start multiple threads\n",
    "thread_a = threading.Thread(target=my_function, name=\"Thread-A\")\n",
    "thread_b = threading.Thread(target=my_function, name=\"Thread-B\")\n",
    "thread_a.start()\n",
    "thread_b.start()\n",
    "\n",
    "# Enumerate through all active threads\n",
    "all_threads = threading.enumerate()\n",
    "for thread in all_threads:\n",
    "    print(f\"Thread name: {thread.name}\")\n"
   ]
  },
  {
   "cell_type": "markdown",
   "id": "5582cb9e",
   "metadata": {},
   "source": [
    "## Q3"
   ]
  },
  {
   "cell_type": "code",
   "execution_count": 7,
   "id": "9c0bcc24",
   "metadata": {},
   "outputs": [],
   "source": [
    "# run Method:\n",
    "\n",
    "# The run method is a standard method in Python's threading module that represents \n",
    "# the code to be run by the thread. When a thread is created, you can pass a callable\n",
    "# (typically an instance of a class with a run method or a function) to be executed \n",
    "# when the thread is started.\n",
    "\n",
    "# start Method:\n",
    "#       The start method is used to start a new thread. It initializes the thread, calls \n",
    "# the run method internally, and begins the execution of the thread. It must be \n",
    "# called after the thread is created using the Thread class or a subclass.\n",
    "\n",
    "# join Method:\n",
    "#         The join method is used to wait for the thread to complete its execution. If a program has multiple threads, calling join on a thread makes the program wait until the thread being joined has finished. This is useful when you want to ensure that all threads have completed before proceeding in the main program.\n",
    "\n",
    "# isAlive Method:\n",
    "#          The isAlive method is used to check whether a thread is still executing or has finished. It returns True if the thread is alive (i.e., it has been started and not yet terminated) and False otherwise. This can be useful for checking the status of a thread before deciding to do something else in the main program.\n",
    "# Here's a brief example to illustrate the usage:"
   ]
  },
  {
   "cell_type": "code",
   "execution_count": 12,
   "id": "44412c15",
   "metadata": {},
   "outputs": [
    {
     "name": "stdout",
     "output_type": "stream",
     "text": [
      "Is thread alive? True\n",
      "Thread is running\n",
      "Thread is running\n",
      "Thread is running\n",
      "Thread is running\n",
      "Thread is running\n",
      "Is thread alive? False\n"
     ]
    }
   ],
   "source": [
    "import threading\n",
    "import time\n",
    "\n",
    "class MyThread(threading.Thread):\n",
    "    def run(self):\n",
    "        for _ in range(5):\n",
    "            time.sleep(1)\n",
    "            print(\"Thread is running\")\n",
    "\n",
    "# Creating an instance of the thread\n",
    "my_thread = MyThread()\n",
    "\n",
    "# Starting the thread\n",
    "my_thread.start()\n",
    "\n",
    "# Checking if the thread is alive\n",
    "print(\"Is thread alive?\", my_thread.is_alive())  # Corrected method name\n",
    "\n",
    "# Waiting for the thread to complete\n",
    "my_thread.join()\n",
    "\n",
    "# Checking again after the thread has finished\n",
    "print(\"Is thread alive?\", my_thread.is_alive())  # Corrected method name\n"
   ]
  },
  {
   "cell_type": "markdown",
   "id": "e9610114",
   "metadata": {},
   "source": [
    "## Q4"
   ]
  },
  {
   "cell_type": "code",
   "execution_count": 13,
   "id": "c3b2f4b5",
   "metadata": {},
   "outputs": [
    {
     "name": "stdout",
     "output_type": "stream",
     "text": [
      "Square of 1: 1\n",
      "Square of 2: 4\n",
      "Square of 3: 9\n",
      "Square of 4: 16\n",
      "Square of 5: 25\n",
      "Cube of 1: 1\n",
      "Cube of 2: 8\n",
      "Cube of 3: 27\n",
      "Cube of 4: 64\n",
      "Cube of 5: 125\n",
      "Both threads have finished.\n"
     ]
    }
   ],
   "source": [
    "import threading\n",
    "\n",
    "def print_squares():\n",
    "    for i in range(1, 6):\n",
    "        print(f\"Square of {i}: {i*i}\")\n",
    "\n",
    "def print_cubes():\n",
    "    for i in range(1, 6):\n",
    "        print(f\"Cube of {i}: {i*i*i}\")\n",
    "\n",
    "if __name__ == \"__main__\":\n",
    "    # Create threads\n",
    "    thread_squares = threading.Thread(target=print_squares)\n",
    "    thread_cubes = threading.Thread(target=print_cubes)\n",
    "\n",
    "    # Start threads\n",
    "    thread_squares.start()\n",
    "    thread_cubes.start()\n",
    "\n",
    "    # Wait for both threads to finish\n",
    "    thread_squares.join()\n",
    "    thread_cubes.join()\n",
    "\n",
    "    print(\"Both threads have finished.\")\n"
   ]
  },
  {
   "cell_type": "markdown",
   "id": "e262d105",
   "metadata": {},
   "source": [
    "## Q5"
   ]
  },
  {
   "cell_type": "code",
   "execution_count": 14,
   "id": "55c71e07",
   "metadata": {},
   "outputs": [],
   "source": [
    "# Advantages:\n",
    "\n",
    "# Concurrency: Enables parallel execution, enhancing overall system performance.\n",
    "# Resource Efficiency: Shares resources, reducing memory overhead compared to \n",
    "# separate processes.\n",
    "\n",
    "# Disadvantage:\n",
    "\n",
    "# Synchronization Complexity: Introduces challenges like race conditions and deadlocks, \n",
    "#     requiring careful management."
   ]
  },
  {
   "cell_type": "markdown",
   "id": "814f193f",
   "metadata": {},
   "source": [
    "## Q6"
   ]
  },
  {
   "cell_type": "code",
   "execution_count": 15,
   "id": "81229c6d",
   "metadata": {},
   "outputs": [],
   "source": [
    "# Deadlock: Occurs when two or more threads are unable to proceed because each is waiting for the \n",
    "#     other to release a resource.\n",
    "\n",
    "# Race Condition: Results from unpredictable interleaving of operations in a concurrent system,\n",
    "#     causing unexpected behavior due to non-deterministic execution order.\n",
    "\n",
    "# Both: Represent potential hazards in multithreading, necessitating careful synchronization to\n",
    "#     avoid program instability."
   ]
  },
  {
   "cell_type": "code",
   "execution_count": null,
   "id": "296fba77",
   "metadata": {},
   "outputs": [],
   "source": []
  }
 ],
 "metadata": {
  "kernelspec": {
   "display_name": "Python 3 (ipykernel)",
   "language": "python",
   "name": "python3"
  },
  "language_info": {
   "codemirror_mode": {
    "name": "ipython",
    "version": 3
   },
   "file_extension": ".py",
   "mimetype": "text/x-python",
   "name": "python",
   "nbconvert_exporter": "python",
   "pygments_lexer": "ipython3",
   "version": "3.11.2"
  }
 },
 "nbformat": 4,
 "nbformat_minor": 5
}
